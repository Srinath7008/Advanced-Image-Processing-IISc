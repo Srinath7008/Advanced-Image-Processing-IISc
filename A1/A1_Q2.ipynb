{
  "nbformat": 4,
  "nbformat_minor": 0,
  "metadata": {
    "colab": {
      "provenance": []
    },
    "kernelspec": {
      "name": "python3",
      "display_name": "Python 3"
    },
    "language_info": {
      "name": "python"
    },
    "gpuClass": "standard",
    "widgets": {
      "application/vnd.jupyter.widget-state+json": {
        "19f214934f654015be11578ae5eab084": {
          "model_module": "@jupyter-widgets/controls",
          "model_name": "HBoxModel",
          "model_module_version": "1.5.0",
          "state": {
            "_dom_classes": [],
            "_model_module": "@jupyter-widgets/controls",
            "_model_module_version": "1.5.0",
            "_model_name": "HBoxModel",
            "_view_count": null,
            "_view_module": "@jupyter-widgets/controls",
            "_view_module_version": "1.5.0",
            "_view_name": "HBoxView",
            "box_style": "",
            "children": [
              "IPY_MODEL_ce0963f550094aff925df8b5cf53fc4f",
              "IPY_MODEL_c71647bdd49b4531b1f6e67484b1020f",
              "IPY_MODEL_b2e270ba75634b86a5fb4fe2851a468a"
            ],
            "layout": "IPY_MODEL_f4e1c097c8a244478cd29660b14e0765"
          }
        },
        "ce0963f550094aff925df8b5cf53fc4f": {
          "model_module": "@jupyter-widgets/controls",
          "model_name": "HTMLModel",
          "model_module_version": "1.5.0",
          "state": {
            "_dom_classes": [],
            "_model_module": "@jupyter-widgets/controls",
            "_model_module_version": "1.5.0",
            "_model_name": "HTMLModel",
            "_view_count": null,
            "_view_module": "@jupyter-widgets/controls",
            "_view_module_version": "1.5.0",
            "_view_name": "HTMLView",
            "description": "",
            "description_tooltip": null,
            "layout": "IPY_MODEL_6bde9eecda614be39281f4d265f21212",
            "placeholder": "​",
            "style": "IPY_MODEL_9bac03fe7ec247f0a163d7f95bb1f11f",
            "value": "100%"
          }
        },
        "c71647bdd49b4531b1f6e67484b1020f": {
          "model_module": "@jupyter-widgets/controls",
          "model_name": "FloatProgressModel",
          "model_module_version": "1.5.0",
          "state": {
            "_dom_classes": [],
            "_model_module": "@jupyter-widgets/controls",
            "_model_module_version": "1.5.0",
            "_model_name": "FloatProgressModel",
            "_view_count": null,
            "_view_module": "@jupyter-widgets/controls",
            "_view_module_version": "1.5.0",
            "_view_name": "ProgressView",
            "bar_style": "success",
            "description": "",
            "description_tooltip": null,
            "layout": "IPY_MODEL_481bd3704d624058ad7a6733eb7cf25d",
            "max": 46830571,
            "min": 0,
            "orientation": "horizontal",
            "style": "IPY_MODEL_b2951255de9f4657b6c39672d80202c8",
            "value": 46830571
          }
        },
        "b2e270ba75634b86a5fb4fe2851a468a": {
          "model_module": "@jupyter-widgets/controls",
          "model_name": "HTMLModel",
          "model_module_version": "1.5.0",
          "state": {
            "_dom_classes": [],
            "_model_module": "@jupyter-widgets/controls",
            "_model_module_version": "1.5.0",
            "_model_name": "HTMLModel",
            "_view_count": null,
            "_view_module": "@jupyter-widgets/controls",
            "_view_module_version": "1.5.0",
            "_view_name": "HTMLView",
            "description": "",
            "description_tooltip": null,
            "layout": "IPY_MODEL_218a6f80b7b94422bc8911177c947cfd",
            "placeholder": "​",
            "style": "IPY_MODEL_b946e53a3ee44e7b9bba80cfe63061bc",
            "value": " 44.7M/44.7M [00:00&lt;00:00, 229MB/s]"
          }
        },
        "f4e1c097c8a244478cd29660b14e0765": {
          "model_module": "@jupyter-widgets/base",
          "model_name": "LayoutModel",
          "model_module_version": "1.2.0",
          "state": {
            "_model_module": "@jupyter-widgets/base",
            "_model_module_version": "1.2.0",
            "_model_name": "LayoutModel",
            "_view_count": null,
            "_view_module": "@jupyter-widgets/base",
            "_view_module_version": "1.2.0",
            "_view_name": "LayoutView",
            "align_content": null,
            "align_items": null,
            "align_self": null,
            "border": null,
            "bottom": null,
            "display": null,
            "flex": null,
            "flex_flow": null,
            "grid_area": null,
            "grid_auto_columns": null,
            "grid_auto_flow": null,
            "grid_auto_rows": null,
            "grid_column": null,
            "grid_gap": null,
            "grid_row": null,
            "grid_template_areas": null,
            "grid_template_columns": null,
            "grid_template_rows": null,
            "height": null,
            "justify_content": null,
            "justify_items": null,
            "left": null,
            "margin": null,
            "max_height": null,
            "max_width": null,
            "min_height": null,
            "min_width": null,
            "object_fit": null,
            "object_position": null,
            "order": null,
            "overflow": null,
            "overflow_x": null,
            "overflow_y": null,
            "padding": null,
            "right": null,
            "top": null,
            "visibility": null,
            "width": null
          }
        },
        "6bde9eecda614be39281f4d265f21212": {
          "model_module": "@jupyter-widgets/base",
          "model_name": "LayoutModel",
          "model_module_version": "1.2.0",
          "state": {
            "_model_module": "@jupyter-widgets/base",
            "_model_module_version": "1.2.0",
            "_model_name": "LayoutModel",
            "_view_count": null,
            "_view_module": "@jupyter-widgets/base",
            "_view_module_version": "1.2.0",
            "_view_name": "LayoutView",
            "align_content": null,
            "align_items": null,
            "align_self": null,
            "border": null,
            "bottom": null,
            "display": null,
            "flex": null,
            "flex_flow": null,
            "grid_area": null,
            "grid_auto_columns": null,
            "grid_auto_flow": null,
            "grid_auto_rows": null,
            "grid_column": null,
            "grid_gap": null,
            "grid_row": null,
            "grid_template_areas": null,
            "grid_template_columns": null,
            "grid_template_rows": null,
            "height": null,
            "justify_content": null,
            "justify_items": null,
            "left": null,
            "margin": null,
            "max_height": null,
            "max_width": null,
            "min_height": null,
            "min_width": null,
            "object_fit": null,
            "object_position": null,
            "order": null,
            "overflow": null,
            "overflow_x": null,
            "overflow_y": null,
            "padding": null,
            "right": null,
            "top": null,
            "visibility": null,
            "width": null
          }
        },
        "9bac03fe7ec247f0a163d7f95bb1f11f": {
          "model_module": "@jupyter-widgets/controls",
          "model_name": "DescriptionStyleModel",
          "model_module_version": "1.5.0",
          "state": {
            "_model_module": "@jupyter-widgets/controls",
            "_model_module_version": "1.5.0",
            "_model_name": "DescriptionStyleModel",
            "_view_count": null,
            "_view_module": "@jupyter-widgets/base",
            "_view_module_version": "1.2.0",
            "_view_name": "StyleView",
            "description_width": ""
          }
        },
        "481bd3704d624058ad7a6733eb7cf25d": {
          "model_module": "@jupyter-widgets/base",
          "model_name": "LayoutModel",
          "model_module_version": "1.2.0",
          "state": {
            "_model_module": "@jupyter-widgets/base",
            "_model_module_version": "1.2.0",
            "_model_name": "LayoutModel",
            "_view_count": null,
            "_view_module": "@jupyter-widgets/base",
            "_view_module_version": "1.2.0",
            "_view_name": "LayoutView",
            "align_content": null,
            "align_items": null,
            "align_self": null,
            "border": null,
            "bottom": null,
            "display": null,
            "flex": null,
            "flex_flow": null,
            "grid_area": null,
            "grid_auto_columns": null,
            "grid_auto_flow": null,
            "grid_auto_rows": null,
            "grid_column": null,
            "grid_gap": null,
            "grid_row": null,
            "grid_template_areas": null,
            "grid_template_columns": null,
            "grid_template_rows": null,
            "height": null,
            "justify_content": null,
            "justify_items": null,
            "left": null,
            "margin": null,
            "max_height": null,
            "max_width": null,
            "min_height": null,
            "min_width": null,
            "object_fit": null,
            "object_position": null,
            "order": null,
            "overflow": null,
            "overflow_x": null,
            "overflow_y": null,
            "padding": null,
            "right": null,
            "top": null,
            "visibility": null,
            "width": null
          }
        },
        "b2951255de9f4657b6c39672d80202c8": {
          "model_module": "@jupyter-widgets/controls",
          "model_name": "ProgressStyleModel",
          "model_module_version": "1.5.0",
          "state": {
            "_model_module": "@jupyter-widgets/controls",
            "_model_module_version": "1.5.0",
            "_model_name": "ProgressStyleModel",
            "_view_count": null,
            "_view_module": "@jupyter-widgets/base",
            "_view_module_version": "1.2.0",
            "_view_name": "StyleView",
            "bar_color": null,
            "description_width": ""
          }
        },
        "218a6f80b7b94422bc8911177c947cfd": {
          "model_module": "@jupyter-widgets/base",
          "model_name": "LayoutModel",
          "model_module_version": "1.2.0",
          "state": {
            "_model_module": "@jupyter-widgets/base",
            "_model_module_version": "1.2.0",
            "_model_name": "LayoutModel",
            "_view_count": null,
            "_view_module": "@jupyter-widgets/base",
            "_view_module_version": "1.2.0",
            "_view_name": "LayoutView",
            "align_content": null,
            "align_items": null,
            "align_self": null,
            "border": null,
            "bottom": null,
            "display": null,
            "flex": null,
            "flex_flow": null,
            "grid_area": null,
            "grid_auto_columns": null,
            "grid_auto_flow": null,
            "grid_auto_rows": null,
            "grid_column": null,
            "grid_gap": null,
            "grid_row": null,
            "grid_template_areas": null,
            "grid_template_columns": null,
            "grid_template_rows": null,
            "height": null,
            "justify_content": null,
            "justify_items": null,
            "left": null,
            "margin": null,
            "max_height": null,
            "max_width": null,
            "min_height": null,
            "min_width": null,
            "object_fit": null,
            "object_position": null,
            "order": null,
            "overflow": null,
            "overflow_x": null,
            "overflow_y": null,
            "padding": null,
            "right": null,
            "top": null,
            "visibility": null,
            "width": null
          }
        },
        "b946e53a3ee44e7b9bba80cfe63061bc": {
          "model_module": "@jupyter-widgets/controls",
          "model_name": "DescriptionStyleModel",
          "model_module_version": "1.5.0",
          "state": {
            "_model_module": "@jupyter-widgets/controls",
            "_model_module_version": "1.5.0",
            "_model_name": "DescriptionStyleModel",
            "_view_count": null,
            "_view_module": "@jupyter-widgets/base",
            "_view_module_version": "1.2.0",
            "_view_name": "StyleView",
            "description_width": ""
          }
        }
      }
    }
  },
  "cells": [
    {
      "cell_type": "code",
      "execution_count": null,
      "metadata": {
        "id": "u0k_h_P_HykU",
        "colab": {
          "base_uri": "https://localhost:8080/"
        },
        "outputId": "c134db65-2835-4fc6-bd43-d7034b6d50fc"
      },
      "outputs": [
        {
          "output_type": "stream",
          "name": "stdout",
          "text": [
            "Mounted at /content/drive\n"
          ]
        }
      ],
      "source": [
        "from google.colab import drive\n",
        "drive.mount('/content/drive')"
      ]
    },
    {
      "cell_type": "markdown",
      "source": [
        "# **Importing necessary Libraries**"
      ],
      "metadata": {
        "id": "TEB6eNrcIt0F"
      }
    },
    {
      "cell_type": "code",
      "source": [
        "import torch\n",
        "import torch.nn as nn\n",
        "from torch.utils.data import DataLoader\n",
        "from torchvision import models,datasets,transforms\n",
        "import numpy as np\n",
        "from sklearn.neighbors import KNeighborsClassifier\n",
        "from sklearn.metrics import accuracy_score"
      ],
      "metadata": {
        "id": "IP6NkS34Iz1X"
      },
      "execution_count": null,
      "outputs": []
    },
    {
      "cell_type": "markdown",
      "source": [
        "# Setting GPU"
      ],
      "metadata": {
        "id": "T5nvRy8ERPtu"
      }
    },
    {
      "cell_type": "code",
      "source": [
        "#device = torch.device(\"cuda:0\" if torch.cuda.is_available() else \"cpu\")\n",
        "#print(device)"
      ],
      "metadata": {
        "id": "MQemhRbVRR42"
      },
      "execution_count": null,
      "outputs": []
    },
    {
      "cell_type": "markdown",
      "source": [
        "# Setting Data Transformer for pre-processsing images"
      ],
      "metadata": {
        "id": "LS17eK7TRpFv"
      }
    },
    {
      "cell_type": "code",
      "source": [
        "transform = transforms.Compose([\n",
        "    transforms.Resize(256),\n",
        "    transforms.CenterCrop(224),\n",
        "    transforms.ToTensor(),\n",
        "    transforms.Normalize(mean=[0.485, 0.456, 0.406], std=[0.229, 0.224, 0.225])\n",
        "])"
      ],
      "metadata": {
        "id": "2aYXztuFRoN1"
      },
      "execution_count": null,
      "outputs": []
    },
    {
      "cell_type": "markdown",
      "source": [
        "# Importing datasets and setting up dataloader"
      ],
      "metadata": {
        "id": "xo2puKL1SL-w"
      }
    },
    {
      "cell_type": "code",
      "source": [
        "test_path = '/content/drive/MyDrive/assignment1_data/classification_dataset/test'\n",
        "train_path = '/content/drive/MyDrive/assignment1_data/classification_dataset/train'\n",
        "train_data = datasets.ImageFolder(root = train_path,transform=transform,target_transform=None)\n",
        "test_data = datasets.ImageFolder(root = test_path,transform=transform,target_transform=None)\n",
        "train_dataloader = DataLoader(dataset = train_data,batch_size=1,shuffle=True)\n",
        "test_dataloader = DataLoader(dataset = test_data,batch_size=1,shuffle=False)"
      ],
      "metadata": {
        "id": "joT5H6bUSTo8"
      },
      "execution_count": null,
      "outputs": []
    },
    {
      "cell_type": "markdown",
      "source": [
        "# Loading Pre-Trained Model(ResNet-18)"
      ],
      "metadata": {
        "id": "tBpbmgRPaeVN"
      }
    },
    {
      "cell_type": "code",
      "source": [
        "resnet18 = models.resnet18(pretrained=True)\n",
        "resnet18=nn.Sequential(*list(resnet18.children())[:-1])\n",
        "#resnet18 = resnet18.to(device)\n",
        "resnet18.eval()"
      ],
      "metadata": {
        "colab": {
          "base_uri": "https://localhost:8080/",
          "height": 1000,
          "referenced_widgets": [
            "19f214934f654015be11578ae5eab084",
            "ce0963f550094aff925df8b5cf53fc4f",
            "c71647bdd49b4531b1f6e67484b1020f",
            "b2e270ba75634b86a5fb4fe2851a468a",
            "f4e1c097c8a244478cd29660b14e0765",
            "6bde9eecda614be39281f4d265f21212",
            "9bac03fe7ec247f0a163d7f95bb1f11f",
            "481bd3704d624058ad7a6733eb7cf25d",
            "b2951255de9f4657b6c39672d80202c8",
            "218a6f80b7b94422bc8911177c947cfd",
            "b946e53a3ee44e7b9bba80cfe63061bc"
          ]
        },
        "id": "JMNozKpHTErD",
        "outputId": "78a1b2c9-0775-4897-cd40-d3944bdb273d"
      },
      "execution_count": null,
      "outputs": [
        {
          "output_type": "stream",
          "name": "stderr",
          "text": [
            "/usr/local/lib/python3.8/dist-packages/torchvision/models/_utils.py:208: UserWarning: The parameter 'pretrained' is deprecated since 0.13 and may be removed in the future, please use 'weights' instead.\n",
            "  warnings.warn(\n",
            "/usr/local/lib/python3.8/dist-packages/torchvision/models/_utils.py:223: UserWarning: Arguments other than a weight enum or `None` for 'weights' are deprecated since 0.13 and may be removed in the future. The current behavior is equivalent to passing `weights=ResNet18_Weights.IMAGENET1K_V1`. You can also use `weights=ResNet18_Weights.DEFAULT` to get the most up-to-date weights.\n",
            "  warnings.warn(msg)\n",
            "Downloading: \"https://download.pytorch.org/models/resnet18-f37072fd.pth\" to /root/.cache/torch/hub/checkpoints/resnet18-f37072fd.pth\n"
          ]
        },
        {
          "output_type": "display_data",
          "data": {
            "text/plain": [
              "  0%|          | 0.00/44.7M [00:00<?, ?B/s]"
            ],
            "application/vnd.jupyter.widget-view+json": {
              "version_major": 2,
              "version_minor": 0,
              "model_id": "19f214934f654015be11578ae5eab084"
            }
          },
          "metadata": {}
        },
        {
          "output_type": "execute_result",
          "data": {
            "text/plain": [
              "Sequential(\n",
              "  (0): Conv2d(3, 64, kernel_size=(7, 7), stride=(2, 2), padding=(3, 3), bias=False)\n",
              "  (1): BatchNorm2d(64, eps=1e-05, momentum=0.1, affine=True, track_running_stats=True)\n",
              "  (2): ReLU(inplace=True)\n",
              "  (3): MaxPool2d(kernel_size=3, stride=2, padding=1, dilation=1, ceil_mode=False)\n",
              "  (4): Sequential(\n",
              "    (0): BasicBlock(\n",
              "      (conv1): Conv2d(64, 64, kernel_size=(3, 3), stride=(1, 1), padding=(1, 1), bias=False)\n",
              "      (bn1): BatchNorm2d(64, eps=1e-05, momentum=0.1, affine=True, track_running_stats=True)\n",
              "      (relu): ReLU(inplace=True)\n",
              "      (conv2): Conv2d(64, 64, kernel_size=(3, 3), stride=(1, 1), padding=(1, 1), bias=False)\n",
              "      (bn2): BatchNorm2d(64, eps=1e-05, momentum=0.1, affine=True, track_running_stats=True)\n",
              "    )\n",
              "    (1): BasicBlock(\n",
              "      (conv1): Conv2d(64, 64, kernel_size=(3, 3), stride=(1, 1), padding=(1, 1), bias=False)\n",
              "      (bn1): BatchNorm2d(64, eps=1e-05, momentum=0.1, affine=True, track_running_stats=True)\n",
              "      (relu): ReLU(inplace=True)\n",
              "      (conv2): Conv2d(64, 64, kernel_size=(3, 3), stride=(1, 1), padding=(1, 1), bias=False)\n",
              "      (bn2): BatchNorm2d(64, eps=1e-05, momentum=0.1, affine=True, track_running_stats=True)\n",
              "    )\n",
              "  )\n",
              "  (5): Sequential(\n",
              "    (0): BasicBlock(\n",
              "      (conv1): Conv2d(64, 128, kernel_size=(3, 3), stride=(2, 2), padding=(1, 1), bias=False)\n",
              "      (bn1): BatchNorm2d(128, eps=1e-05, momentum=0.1, affine=True, track_running_stats=True)\n",
              "      (relu): ReLU(inplace=True)\n",
              "      (conv2): Conv2d(128, 128, kernel_size=(3, 3), stride=(1, 1), padding=(1, 1), bias=False)\n",
              "      (bn2): BatchNorm2d(128, eps=1e-05, momentum=0.1, affine=True, track_running_stats=True)\n",
              "      (downsample): Sequential(\n",
              "        (0): Conv2d(64, 128, kernel_size=(1, 1), stride=(2, 2), bias=False)\n",
              "        (1): BatchNorm2d(128, eps=1e-05, momentum=0.1, affine=True, track_running_stats=True)\n",
              "      )\n",
              "    )\n",
              "    (1): BasicBlock(\n",
              "      (conv1): Conv2d(128, 128, kernel_size=(3, 3), stride=(1, 1), padding=(1, 1), bias=False)\n",
              "      (bn1): BatchNorm2d(128, eps=1e-05, momentum=0.1, affine=True, track_running_stats=True)\n",
              "      (relu): ReLU(inplace=True)\n",
              "      (conv2): Conv2d(128, 128, kernel_size=(3, 3), stride=(1, 1), padding=(1, 1), bias=False)\n",
              "      (bn2): BatchNorm2d(128, eps=1e-05, momentum=0.1, affine=True, track_running_stats=True)\n",
              "    )\n",
              "  )\n",
              "  (6): Sequential(\n",
              "    (0): BasicBlock(\n",
              "      (conv1): Conv2d(128, 256, kernel_size=(3, 3), stride=(2, 2), padding=(1, 1), bias=False)\n",
              "      (bn1): BatchNorm2d(256, eps=1e-05, momentum=0.1, affine=True, track_running_stats=True)\n",
              "      (relu): ReLU(inplace=True)\n",
              "      (conv2): Conv2d(256, 256, kernel_size=(3, 3), stride=(1, 1), padding=(1, 1), bias=False)\n",
              "      (bn2): BatchNorm2d(256, eps=1e-05, momentum=0.1, affine=True, track_running_stats=True)\n",
              "      (downsample): Sequential(\n",
              "        (0): Conv2d(128, 256, kernel_size=(1, 1), stride=(2, 2), bias=False)\n",
              "        (1): BatchNorm2d(256, eps=1e-05, momentum=0.1, affine=True, track_running_stats=True)\n",
              "      )\n",
              "    )\n",
              "    (1): BasicBlock(\n",
              "      (conv1): Conv2d(256, 256, kernel_size=(3, 3), stride=(1, 1), padding=(1, 1), bias=False)\n",
              "      (bn1): BatchNorm2d(256, eps=1e-05, momentum=0.1, affine=True, track_running_stats=True)\n",
              "      (relu): ReLU(inplace=True)\n",
              "      (conv2): Conv2d(256, 256, kernel_size=(3, 3), stride=(1, 1), padding=(1, 1), bias=False)\n",
              "      (bn2): BatchNorm2d(256, eps=1e-05, momentum=0.1, affine=True, track_running_stats=True)\n",
              "    )\n",
              "  )\n",
              "  (7): Sequential(\n",
              "    (0): BasicBlock(\n",
              "      (conv1): Conv2d(256, 512, kernel_size=(3, 3), stride=(2, 2), padding=(1, 1), bias=False)\n",
              "      (bn1): BatchNorm2d(512, eps=1e-05, momentum=0.1, affine=True, track_running_stats=True)\n",
              "      (relu): ReLU(inplace=True)\n",
              "      (conv2): Conv2d(512, 512, kernel_size=(3, 3), stride=(1, 1), padding=(1, 1), bias=False)\n",
              "      (bn2): BatchNorm2d(512, eps=1e-05, momentum=0.1, affine=True, track_running_stats=True)\n",
              "      (downsample): Sequential(\n",
              "        (0): Conv2d(256, 512, kernel_size=(1, 1), stride=(2, 2), bias=False)\n",
              "        (1): BatchNorm2d(512, eps=1e-05, momentum=0.1, affine=True, track_running_stats=True)\n",
              "      )\n",
              "    )\n",
              "    (1): BasicBlock(\n",
              "      (conv1): Conv2d(512, 512, kernel_size=(3, 3), stride=(1, 1), padding=(1, 1), bias=False)\n",
              "      (bn1): BatchNorm2d(512, eps=1e-05, momentum=0.1, affine=True, track_running_stats=True)\n",
              "      (relu): ReLU(inplace=True)\n",
              "      (conv2): Conv2d(512, 512, kernel_size=(3, 3), stride=(1, 1), padding=(1, 1), bias=False)\n",
              "      (bn2): BatchNorm2d(512, eps=1e-05, momentum=0.1, affine=True, track_running_stats=True)\n",
              "    )\n",
              "  )\n",
              "  (8): AdaptiveAvgPool2d(output_size=(1, 1))\n",
              ")"
            ]
          },
          "metadata": {},
          "execution_count": 5
        }
      ]
    },
    {
      "cell_type": "markdown",
      "source": [
        "# Question (a)"
      ],
      "metadata": {
        "id": "nmgz3G4-T9OO"
      }
    },
    {
      "cell_type": "markdown",
      "source": [
        "# Extracting features from Training and Testing Data"
      ],
      "metadata": {
        "id": "RcatC7Zzd7lF"
      }
    },
    {
      "cell_type": "code",
      "source": [
        "i=0\n",
        "for images,labels in train_dataloader:\n",
        "  #images = images.to(device)\n",
        "  #labels = labels.to(device)\n",
        "  features = resnet18(images).squeeze()\n",
        "  features = features.detach().numpy()\n",
        "  if i==0:\n",
        "    x_train = features\n",
        "    y_train = labels.detach().numpy()\n",
        "    i=1\n",
        "  else:\n",
        "    x_train = np.row_stack((x_train,features))\n",
        "    y_train = np.row_stack((y_train,labels))\n",
        "\n"
      ],
      "metadata": {
        "id": "l2OMjv-heFPn"
      },
      "execution_count": null,
      "outputs": []
    },
    {
      "cell_type": "code",
      "source": [
        "i=0\n",
        "for images,labels in test_dataloader:\n",
        "  #images = images.to(device)\n",
        "  #labels = labels.to(device)\n",
        "  features = resnet18(images).squeeze()\n",
        "  features = features.detach().numpy()\n",
        "  if i==0:\n",
        "    x_test = features\n",
        "    y_test = labels.detach().numpy()\n",
        "    i=1\n",
        "  else:\n",
        "    x_test = np.row_stack((x_test,features))\n",
        "    y_test = np.row_stack((y_test,labels))"
      ],
      "metadata": {
        "id": "LlTKldSwn8gx"
      },
      "execution_count": null,
      "outputs": []
    },
    {
      "cell_type": "markdown",
      "source": [
        "# Using k-NN to classify"
      ],
      "metadata": {
        "id": "ligvRaiiTR2B"
      }
    },
    {
      "cell_type": "code",
      "source": [
        "# Define the number of nearest neighbors (k)\n",
        "k = 5\n",
        "\n",
        "# Create the k-NN classifier\n",
        "knn = KNeighborsClassifier(n_neighbors=k)\n",
        "\n",
        "# Fit the k-NN classifier to the features and labels\n",
        "knn.fit(x_train, y_train.ravel())\n",
        "\n",
        "# Predict the labels of the test images\n",
        "predicted_labels = knn.predict(x_test)\n",
        "\n",
        "# Evaluate the accuracy of the classifier\n",
        "accuracy = accuracy_score(y_test.ravel(), predicted_labels)\n",
        "print(\"Accuracy: {:.2f}%\".format(accuracy * 100))"
      ],
      "metadata": {
        "colab": {
          "base_uri": "https://localhost:8080/"
        },
        "id": "i3kKi88jmDKh",
        "outputId": "570f6ad5-7e82-4548-9447-a3ffc8d0fe8a"
      },
      "execution_count": null,
      "outputs": [
        {
          "output_type": "stream",
          "name": "stdout",
          "text": [
            "Accuracy: 96.67%\n"
          ]
        }
      ]
    },
    {
      "cell_type": "markdown",
      "source": [
        "# Question (b)"
      ],
      "metadata": {
        "id": "CQkc7HPRUEqN"
      }
    },
    {
      "cell_type": "code",
      "source": [
        "train_dataloader_1 = DataLoader(dataset = train_data,batch_size=64,shuffle=True)\n",
        "test_dataloader_1 = DataLoader(dataset = test_data,batch_size=1,shuffle=False)"
      ],
      "metadata": {
        "id": "9jrf8eWoUG7E"
      },
      "execution_count": null,
      "outputs": []
    },
    {
      "cell_type": "code",
      "source": [
        "!pip install -q torchinfo\n",
        "from torchinfo import summary"
      ],
      "metadata": {
        "id": "N6t1c5NGV0pV"
      },
      "execution_count": null,
      "outputs": []
    },
    {
      "cell_type": "markdown",
      "source": [
        "# Initializing model"
      ],
      "metadata": {
        "id": "jw9iXVNuXI5_"
      }
    },
    {
      "cell_type": "code",
      "source": [
        "resnet18_1 = models.resnet18(pretrained=True)\n",
        "# Freezing weights of layers\n",
        "for param in resnet18_1.parameters():\n",
        "     param.requires_grad=False\n",
        "# Replace the ImageNet classifier with a new classifier for your dataset\n",
        "num_classes = 6\n",
        "resnet18_1.fc = nn.Linear(resnet18_1.fc.in_features, num_classes)"
      ],
      "metadata": {
        "id": "O0PaGPbEUY4A"
      },
      "execution_count": null,
      "outputs": []
    },
    {
      "cell_type": "markdown",
      "source": [
        "# Fine-tuning classification layer using training data\n"
      ],
      "metadata": {
        "id": "WFuCK5hGXZyR"
      }
    },
    {
      "cell_type": "code",
      "source": [
        "learning_rate = 0.001\n",
        "num_epochs = 30\n",
        "loss_fun = nn.CrossEntropyLoss()\n",
        "optimizer = torch.optim.Adam(resnet18_1.parameters(), lr=learning_rate)"
      ],
      "metadata": {
        "id": "KqJBZ1AjX5O7"
      },
      "execution_count": null,
      "outputs": []
    },
    {
      "cell_type": "code",
      "source": [
        "# Fine-tune the model\n",
        "running_loss = 0\n",
        "for epoch in range(num_epochs):\n",
        "    for imgs, labels in train_dataloader_1:\n",
        "        # Move the data to the #GPU\n",
        "        #imgs = imgs.to(device)\n",
        "        #labels = labels.to(device)\n",
        "\n",
        "        # Forward pass\n",
        "        outputs = resnet18_1(imgs)\n",
        "        loss = loss_fun(outputs, labels)\n",
        "\n",
        "        # Backward pass and optimization\n",
        "        optimizer.zero_grad()\n",
        "        loss.backward()\n",
        "        optimizer.step()\n",
        "        running_loss = running_loss + loss.item()\n",
        "\n",
        "    # Print the current loss\n",
        "    print(\"Epoch {}/{}, Loss: {:.4f}\".format(epoch+1, num_epochs, running_loss/(epoch+1)))"
      ],
      "metadata": {
        "colab": {
          "base_uri": "https://localhost:8080/"
        },
        "id": "gIbbc49iY4QA",
        "outputId": "7265bb81-2fba-4561-9a86-095a1d96058c"
      },
      "execution_count": null,
      "outputs": [
        {
          "output_type": "stream",
          "name": "stdout",
          "text": [
            "Epoch 1/30, Loss: 0.2012\n",
            "Epoch 2/30, Loss: 0.1837\n",
            "Epoch 3/30, Loss: 0.1795\n",
            "Epoch 4/30, Loss: 0.1723\n",
            "Epoch 5/30, Loss: 0.1641\n",
            "Epoch 6/30, Loss: 0.1607\n",
            "Epoch 7/30, Loss: 0.1512\n",
            "Epoch 8/30, Loss: 0.1446\n",
            "Epoch 9/30, Loss: 0.1465\n",
            "Epoch 10/30, Loss: 0.1417\n",
            "Epoch 11/30, Loss: 0.1375\n",
            "Epoch 12/30, Loss: 0.1377\n",
            "Epoch 13/30, Loss: 0.1349\n",
            "Epoch 14/30, Loss: 0.1317\n",
            "Epoch 15/30, Loss: 0.1286\n",
            "Epoch 16/30, Loss: 0.1257\n",
            "Epoch 17/30, Loss: 0.1233\n",
            "Epoch 18/30, Loss: 0.1278\n",
            "Epoch 19/30, Loss: 0.1354\n",
            "Epoch 20/30, Loss: 0.1357\n",
            "Epoch 21/30, Loss: 0.1356\n",
            "Epoch 22/30, Loss: 0.1338\n",
            "Epoch 23/30, Loss: 0.1326\n",
            "Epoch 24/30, Loss: 0.1315\n",
            "Epoch 25/30, Loss: 0.1299\n",
            "Epoch 26/30, Loss: 0.1274\n",
            "Epoch 27/30, Loss: 0.1347\n",
            "Epoch 28/30, Loss: 0.1332\n",
            "Epoch 29/30, Loss: 0.1344\n",
            "Epoch 30/30, Loss: 0.1330\n"
          ]
        }
      ]
    },
    {
      "cell_type": "code",
      "source": [
        "#Setting evaluation mode\n",
        "resnet18_1.eval()\n",
        "# Testing on test dataset\n",
        "count=0\n",
        "total=0\n",
        "for imgs,labels in test_dataloader_1:\n",
        "  output = resnet18_1(imgs)\n",
        "  pred = torch.argmax(output)\n",
        "  if pred == labels :\n",
        "    count = count+1\n",
        "  total=total+1\n",
        "print('The percentage accuracy is')\n",
        "print(count/total *100)"
      ],
      "metadata": {
        "colab": {
          "base_uri": "https://localhost:8080/"
        },
        "id": "kBy9uitjqZ8F",
        "outputId": "a705aadb-6114-43b7-9d2b-ee2893a571cc"
      },
      "execution_count": null,
      "outputs": [
        {
          "output_type": "stream",
          "name": "stdout",
          "text": [
            "The percentage accuracy is\n",
            "100.0\n"
          ]
        }
      ]
    },
    {
      "cell_type": "markdown",
      "source": [
        "# Question (c)"
      ],
      "metadata": {
        "id": "oXKZ4SK41mix"
      }
    },
    {
      "cell_type": "code",
      "source": [
        "class Simple_linear_network(nn.Module):\n",
        "  def __init__(self):\n",
        "    super(Simple_linear_network,self).__init__()\n",
        "    self.layer1 = nn.Flatten()\n",
        "    self.layer2 = nn.Linear(150528,6)\n",
        "  def forward(self,x):\n",
        "    x=self.layer1(x)\n",
        "    x=self.layer2(x)\n",
        "    return(x)\n"
      ],
      "metadata": {
        "id": "z8jkT8401pcN"
      },
      "execution_count": null,
      "outputs": []
    },
    {
      "cell_type": "code",
      "source": [
        "simple_model = Simple_linear_network()\n",
        "simple_model"
      ],
      "metadata": {
        "colab": {
          "base_uri": "https://localhost:8080/"
        },
        "id": "_gTvPn9i2IEF",
        "outputId": "58e71d21-822e-4b92-84e3-8bda18dd5133"
      },
      "execution_count": null,
      "outputs": [
        {
          "output_type": "execute_result",
          "data": {
            "text/plain": [
              "Simple_linear_network(\n",
              "  (layer1): Flatten(start_dim=1, end_dim=-1)\n",
              "  (layer2): Linear(in_features=150528, out_features=6, bias=True)\n",
              ")"
            ]
          },
          "metadata": {},
          "execution_count": 43
        }
      ]
    },
    {
      "cell_type": "markdown",
      "source": [
        "# Training the model"
      ],
      "metadata": {
        "id": "UqO_pJ4c2si6"
      }
    },
    {
      "cell_type": "code",
      "source": [
        "loss_fun = nn.CrossEntropyLoss()\n",
        "optimizer = torch.optim.Adam(simple_model.parameters(), lr=0.001)\n",
        "running_loss = 0\n",
        "for epoch in range(num_epochs):\n",
        "    for imgs, labels in train_dataloader_1:\n",
        "        # Move the data to the #GPU\n",
        "        #imgs = imgs.to(device)\n",
        "        #labels = labels.to(device)\n",
        "\n",
        "        # Forward pass\n",
        "        outputs = simple_model(imgs)\n",
        "        loss = loss_fun(outputs, labels)\n",
        "\n",
        "        # Backward pass and optimization\n",
        "        optimizer.zero_grad()\n",
        "        loss.backward()\n",
        "        optimizer.step()\n",
        "        running_loss = running_loss + loss.item()\n",
        "\n",
        "    # Print the current loss\n",
        "    print(\"Epoch {}/{}, Loss: {:.4f}\".format(epoch+1, num_epochs, running_loss/(epoch+1)))"
      ],
      "metadata": {
        "colab": {
          "base_uri": "https://localhost:8080/"
        },
        "id": "AE9Co-Hj2nrc",
        "outputId": "f25d10f9-a568-4080-843d-2b14a8eed3d4"
      },
      "execution_count": null,
      "outputs": [
        {
          "output_type": "stream",
          "name": "stdout",
          "text": [
            "Epoch 1/30, Loss: 19.8864\n",
            "Epoch 2/30, Loss: 23.4889\n",
            "Epoch 3/30, Loss: 25.7035\n",
            "Epoch 4/30, Loss: 22.6645\n",
            "Epoch 5/30, Loss: 23.0216\n",
            "Epoch 6/30, Loss: 21.6010\n",
            "Epoch 7/30, Loss: 21.5256\n",
            "Epoch 8/30, Loss: 20.0922\n",
            "Epoch 9/30, Loss: 18.9157\n",
            "Epoch 10/30, Loss: 17.8478\n",
            "Epoch 11/30, Loss: 16.8147\n",
            "Epoch 12/30, Loss: 15.6506\n",
            "Epoch 13/30, Loss: 14.6266\n",
            "Epoch 14/30, Loss: 14.0583\n",
            "Epoch 15/30, Loss: 13.5111\n",
            "Epoch 16/30, Loss: 12.9608\n",
            "Epoch 17/30, Loss: 12.6076\n",
            "Epoch 18/30, Loss: 12.0921\n",
            "Epoch 19/30, Loss: 11.7083\n",
            "Epoch 20/30, Loss: 11.7153\n",
            "Epoch 21/30, Loss: 11.6361\n",
            "Epoch 22/30, Loss: 11.9440\n",
            "Epoch 23/30, Loss: 11.8516\n",
            "Epoch 24/30, Loss: 11.5728\n",
            "Epoch 25/30, Loss: 11.2571\n",
            "Epoch 26/30, Loss: 10.9331\n",
            "Epoch 27/30, Loss: 10.6100\n",
            "Epoch 28/30, Loss: 10.2812\n",
            "Epoch 29/30, Loss: 9.9945\n",
            "Epoch 30/30, Loss: 9.7213\n"
          ]
        }
      ]
    },
    {
      "cell_type": "code",
      "source": [
        "#Setting evaluation mode\n",
        "simple_model.eval()\n",
        "# Testing on test dataset\n",
        "count=0\n",
        "total=0\n",
        "for imgs,labels in test_dataloader_1:\n",
        "  output = simple_model(imgs)\n",
        "  pred = torch.argmax(output)\n",
        "  if pred == labels :\n",
        "    count = count+1\n",
        "  total=total+1\n",
        "print('The percentage accuracy is')\n",
        "print(count/total *100)"
      ],
      "metadata": {
        "colab": {
          "base_uri": "https://localhost:8080/"
        },
        "id": "wMKoZpZ-4GGM",
        "outputId": "2a16968d-c234-41a2-eac9-4998c6f55a4b"
      },
      "execution_count": null,
      "outputs": [
        {
          "output_type": "stream",
          "name": "stdout",
          "text": [
            "The percentage accuracy is\n",
            "32.5\n"
          ]
        }
      ]
    }
  ]
}